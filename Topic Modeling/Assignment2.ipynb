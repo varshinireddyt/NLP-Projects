{
 "cells": [
  {
   "cell_type": "code",
   "execution_count": 38,
   "metadata": {},
   "outputs": [],
   "source": [
    "import numpy as np\n",
    "import pandas as pd\n",
    "import matplotlib.pyplot as plt\n",
    "import os,sys\n",
    "import glob\n",
    "import string\n",
    "\n",
    "import nltk\n",
    "import re\n",
    "from sklearn.feature_extraction.text import ENGLISH_STOP_WORDS\n",
    "from sklearn.feature_extraction.text import CountVectorizer, TfidfVectorizer\n",
    "#Topic Modeling\n",
    "from sklearn import decomposition #for NMF\n",
    "from sklearn.decomposition import LatentDirichletAllocation\n",
    "from sklearn.decomposition import TruncatedSVD\n"
   ]
  },
  {
   "cell_type": "code",
   "execution_count": 51,
   "metadata": {},
   "outputs": [],
   "source": [
    "path = \"Patents_xls\"\n",
    "dirs = os.chdir(path)"
   ]
  },
  {
   "cell_type": "code",
   "execution_count": 52,
   "metadata": {},
   "outputs": [
    {
     "data": {
      "text/plain": [
       "['Huawei.xlsx',\n",
       " 'Google.xlsx',\n",
       " 'Pantech.xlsx',\n",
       " 'Nokia.xlsx',\n",
       " 'InterDigital.xlsx',\n",
       " 'Sony Ericsson.xlsx',\n",
       " 'ZTE.xlsx',\n",
       " 'HTC.xlsx',\n",
       " 'Oracle.xlsx',\n",
       " 'LG.xlsx',\n",
       " 'Kodak.xlsx',\n",
       " 'Samsung.xlsx',\n",
       " 'Apple.xlsx']"
      ]
     },
     "execution_count": 52,
     "metadata": {},
     "output_type": "execute_result"
    }
   ],
   "source": [
    "files = glob.glob('*xlsx')\n",
    "files"
   ]
  },
  {
   "cell_type": "code",
   "execution_count": 53,
   "metadata": {},
   "outputs": [],
   "source": [
    "docs=[]  #corpus\n",
    "company_names = []\n",
    "stopwords = list(ENGLISH_STOP_WORDS)\n",
    "my_stopwords = [\"include\",\"finally\", \"significant\"]\n",
    "stopwords.extend(my_stopwords)\n",
    "p = string.punctuation\n",
    "d = string.digits\n",
    "combined = p + d"
   ]
  },
  {
   "cell_type": "code",
   "execution_count": 54,
   "metadata": {},
   "outputs": [],
   "source": [
    "def parse(txt):\n",
    "    txt = txt.lower()\n",
    "    #remove punctuation and digits\n",
    "    table = str.maketrans(combined, len(combined) * \" \")\n",
    "    txt = txt.translate(table)\n",
    "    #remove stopwords\n",
    "    words = txt.split()\n",
    "    cleaned_words = [w for w in words if w not in stopwords]\n",
    "    cleaned_text = \" \".join(cleaned_words)\n",
    "    return cleaned_text"
   ]
  },
  {
   "cell_type": "code",
   "execution_count": 55,
   "metadata": {},
   "outputs": [],
   "source": [
    "for f in files:\n",
    "    df = pd.read_excel(f)\n",
    "    df['TI'].dropna(inplace=True)\n",
    "    df['AB'].dropna(inplace = True)\n",
    "    all_texts=[]\n",
    "    for index,row in df.iterrows():\n",
    "        all_texts.append(row['TI'])\n",
    "        all_texts.append(row['AB'])\n",
    "    final_text = \" \".join(str(t) for t in all_texts)\n",
    "    cleaned_text = parse(final_text)\n",
    "    #add this to the docs list\n",
    "    docs.append(cleaned_text)\n",
    "    name = f.split(\"/\")[-1][:-5]\n",
    "    #extracting the company names\n",
    "    company_names.append(name)    "
   ]
  },
  {
   "cell_type": "code",
   "execution_count": 56,
   "metadata": {},
   "outputs": [
    {
     "data": {
      "text/plain": [
       "['Huawei',\n",
       " 'Google',\n",
       " 'Pantech',\n",
       " 'Nokia',\n",
       " 'InterDigital',\n",
       " 'Sony Ericsson',\n",
       " 'ZTE',\n",
       " 'HTC',\n",
       " 'Oracle',\n",
       " 'LG',\n",
       " 'Kodak',\n",
       " 'Samsung',\n",
       " 'Apple']"
      ]
     },
     "execution_count": 56,
     "metadata": {},
     "output_type": "execute_result"
    }
   ],
   "source": [
    "company_names"
   ]
  },
  {
   "cell_type": "code",
   "execution_count": 57,
   "metadata": {},
   "outputs": [],
   "source": [
    "# Tfidf Vectorization and cosine similarity\n",
    "from sklearn.metrics.pairwise import cosine_similarity\n",
    "from sklearn.feature_extraction.text import TfidfVectorizer\n",
    "vectorizer = TfidfVectorizer(stop_words='english')\n",
    "dtm = vectorizer.fit_transform(docs)\n",
    "#similarity\n",
    "similarity = cosine_similarity(dtm)\n",
    "cos_distance = 1-similarity"
   ]
  },
  {
   "cell_type": "markdown",
   "metadata": {},
   "source": [
    "#### Performing unsupervised learning algorithms"
   ]
  },
  {
   "cell_type": "code",
   "execution_count": 58,
   "metadata": {},
   "outputs": [
    {
     "data": {
      "image/png": "[encoded data removed]",
      "text/plain": [
       "<Figure size 432x288 with 1 Axes>"
      ]
     },
     "metadata": {
      "needs_background": "light"
     },
     "output_type": "display_data"
    }
   ],
   "source": [
    "#Multidimensional Scaling\n",
    "from sklearn.manifold import MDS\n",
    "mds = MDS(n_components=2,dissimilarity='precomputed',random_state=1)\n",
    "pos = mds.fit_transform(cos_distance)\n",
    "xs,ys = pos[:,0],pos[:,1]\n",
    "for x,y,name in zip(xs,ys,company_names):\n",
    "    plt.scatter(x,y)\n",
    "    plt.text(x,y,name)\n",
    "plt.show()"
   ]
  },
  {
   "cell_type": "code",
   "execution_count": 59,
   "metadata": {},
   "outputs": [
    {
     "data": {
      "image/png": "[encoded data removed]",
      "text/plain": [
       "<Figure size 432x288 with 1 Axes>"
      ]
     },
     "metadata": {
      "needs_background": "light"
     },
     "output_type": "display_data"
    }
   ],
   "source": [
    "#Hierarchical clustering\n",
    "from scipy.cluster.hierarchy import ward, dendrogram\n",
    "linkage_matrix = ward(cos_distance)\n",
    "dendrogram(linkage_matrix, orientation='right', labels=files)\n",
    "plt.tight_layout()\n",
    "plt.show()"
   ]
  },
  {
   "cell_type": "code",
   "execution_count": 60,
   "metadata": {},
   "outputs": [],
   "source": [
    "#Kmeans clustering\n",
    "from sklearn.cluster import KMeans\n",
    "km = KMeans(n_clusters=5, random_state=999)\n",
    "km.fit(dtm) #computes k-means clustering\n",
    "cluster_membership = km.predict(dtm) #predicts closest cluster\n",
    "company_distance_to_center = km.transform(dtm) #cluster distance"
   ]
  },
  {
   "cell_type": "code",
   "execution_count": 61,
   "metadata": {},
   "outputs": [
    {
     "name": "stdout",
     "output_type": "stream",
     "text": [
      "Company_Name   Cluster# \n",
      "Huawei          0\n",
      "Google          1\n",
      "Pantech         1\n",
      "Nokia           1\n",
      "InterDigital    2\n",
      "Sony Ericsson   1\n",
      "ZTE             0\n",
      "HTC             4\n",
      "Oracle          1\n",
      "LG              3\n",
      "Kodak           3\n",
      "Samsung         3\n",
      "Apple           1\n"
     ]
    }
   ],
   "source": [
    "clusters = zip(cluster_membership, company_names)\n",
    "print(\"{0:<15s}{1:<9s}\".format(\"Company_Name\",\"Cluster#\"))\n",
    "for cluster_number, company_name in clusters:\n",
    "    print(\"{0:<15s}{1:2d}\".format(company_name,cluster_number))"
   ]
  },
  {
   "cell_type": "code",
   "execution_count": 62,
   "metadata": {},
   "outputs": [
    {
     "data": {
      "text/html": [
       "<div>\n",
       "<style scoped>\n",
       "    .dataframe tbody tr th:only-of-type {\n",
       "        vertical-align: middle;\n",
       "    }\n",
       "\n",
       "    .dataframe tbody tr th {\n",
       "        vertical-align: top;\n",
       "    }\n",
       "\n",
       "    .dataframe thead th {\n",
       "        text-align: right;\n",
       "    }\n",
       "</style>\n",
       "<table border=\"1\" class=\"dataframe\">\n",
       "  <thead>\n",
       "    <tr style=\"text-align: right;\">\n",
       "      <th></th>\n",
       "      <th>Company</th>\n",
       "      <th>Cluster#</th>\n",
       "      <th>Centroid_Dist0</th>\n",
       "      <th>Centroid_Dist1</th>\n",
       "      <th>Centroid_Dist2</th>\n",
       "      <th>Centroid_Dist3</th>\n",
       "      <th>Centroid_Dist4</th>\n",
       "    </tr>\n",
       "  </thead>\n",
       "  <tbody>\n",
       "    <tr>\n",
       "      <td>0</td>\n",
       "      <td>Huawei</td>\n",
       "      <td>0</td>\n",
       "      <td>0.398403</td>\n",
       "      <td>0.690663</td>\n",
       "      <td>0.985650</td>\n",
       "      <td>0.945163</td>\n",
       "      <td>1.126337e+00</td>\n",
       "    </tr>\n",
       "    <tr>\n",
       "      <td>1</td>\n",
       "      <td>Google</td>\n",
       "      <td>1</td>\n",
       "      <td>0.755043</td>\n",
       "      <td>0.346259</td>\n",
       "      <td>0.869938</td>\n",
       "      <td>0.801038</td>\n",
       "      <td>9.738933e-01</td>\n",
       "    </tr>\n",
       "    <tr>\n",
       "      <td>2</td>\n",
       "      <td>Pantech</td>\n",
       "      <td>1</td>\n",
       "      <td>0.907099</td>\n",
       "      <td>0.677785</td>\n",
       "      <td>0.996336</td>\n",
       "      <td>0.983263</td>\n",
       "      <td>1.120567e+00</td>\n",
       "    </tr>\n",
       "    <tr>\n",
       "      <td>3</td>\n",
       "      <td>Nokia</td>\n",
       "      <td>1</td>\n",
       "      <td>0.630219</td>\n",
       "      <td>0.369741</td>\n",
       "      <td>0.844291</td>\n",
       "      <td>0.838758</td>\n",
       "      <td>9.700533e-01</td>\n",
       "    </tr>\n",
       "    <tr>\n",
       "      <td>4</td>\n",
       "      <td>InterDigital</td>\n",
       "      <td>2</td>\n",
       "      <td>0.915410</td>\n",
       "      <td>0.804324</td>\n",
       "      <td>0.000000</td>\n",
       "      <td>1.019595</td>\n",
       "      <td>1.161116e+00</td>\n",
       "    </tr>\n",
       "    <tr>\n",
       "      <td>5</td>\n",
       "      <td>Sony Ericsson</td>\n",
       "      <td>1</td>\n",
       "      <td>0.911314</td>\n",
       "      <td>0.486448</td>\n",
       "      <td>1.007784</td>\n",
       "      <td>0.861439</td>\n",
       "      <td>8.541596e-01</td>\n",
       "    </tr>\n",
       "    <tr>\n",
       "      <td>6</td>\n",
       "      <td>ZTE</td>\n",
       "      <td>0</td>\n",
       "      <td>0.398403</td>\n",
       "      <td>0.841217</td>\n",
       "      <td>1.010888</td>\n",
       "      <td>1.066094</td>\n",
       "      <td>1.210479e+00</td>\n",
       "    </tr>\n",
       "    <tr>\n",
       "      <td>7</td>\n",
       "      <td>HTC</td>\n",
       "      <td>4</td>\n",
       "      <td>1.099191</td>\n",
       "      <td>0.862005</td>\n",
       "      <td>1.161116</td>\n",
       "      <td>0.993947</td>\n",
       "      <td>1.053671e-08</td>\n",
       "    </tr>\n",
       "    <tr>\n",
       "      <td>8</td>\n",
       "      <td>Oracle</td>\n",
       "      <td>1</td>\n",
       "      <td>0.884022</td>\n",
       "      <td>0.604360</td>\n",
       "      <td>1.001237</td>\n",
       "      <td>0.938185</td>\n",
       "      <td>1.108507e+00</td>\n",
       "    </tr>\n",
       "    <tr>\n",
       "      <td>9</td>\n",
       "      <td>LG</td>\n",
       "      <td>3</td>\n",
       "      <td>0.967539</td>\n",
       "      <td>0.786744</td>\n",
       "      <td>1.064918</td>\n",
       "      <td>0.396716</td>\n",
       "      <td>1.075751e+00</td>\n",
       "    </tr>\n",
       "    <tr>\n",
       "      <td>10</td>\n",
       "      <td>Kodak</td>\n",
       "      <td>3</td>\n",
       "      <td>1.117731</td>\n",
       "      <td>0.936166</td>\n",
       "      <td>1.214951</td>\n",
       "      <td>0.559379</td>\n",
       "      <td>1.150165e+00</td>\n",
       "    </tr>\n",
       "    <tr>\n",
       "      <td>11</td>\n",
       "      <td>Samsung</td>\n",
       "      <td>3</td>\n",
       "      <td>0.980771</td>\n",
       "      <td>0.774880</td>\n",
       "      <td>1.042722</td>\n",
       "      <td>0.329264</td>\n",
       "      <td>1.030714e+00</td>\n",
       "    </tr>\n",
       "    <tr>\n",
       "      <td>12</td>\n",
       "      <td>Apple</td>\n",
       "      <td>1</td>\n",
       "      <td>0.840908</td>\n",
       "      <td>0.435542</td>\n",
       "      <td>0.953302</td>\n",
       "      <td>0.779449</td>\n",
       "      <td>9.286431e-01</td>\n",
       "    </tr>\n",
       "  </tbody>\n",
       "</table>\n",
       "</div>"
      ],
      "text/plain": [
       "          Company  Cluster#  Centroid_Dist0  Centroid_Dist1  Centroid_Dist2  \\\n",
       "0          Huawei         0        0.398403        0.690663        0.985650   \n",
       "1          Google         1        0.755043        0.346259        0.869938   \n",
       "2         Pantech         1        0.907099        0.677785        0.996336   \n",
       "3           Nokia         1        0.630219        0.369741        0.844291   \n",
       "4    InterDigital         2        0.915410        0.804324        0.000000   \n",
       "5   Sony Ericsson         1        0.911314        0.486448        1.007784   \n",
       "6             ZTE         0        0.398403        0.841217        1.010888   \n",
       "7             HTC         4        1.099191        0.862005        1.161116   \n",
       "8          Oracle         1        0.884022        0.604360        1.001237   \n",
       "9              LG         3        0.967539        0.786744        1.064918   \n",
       "10          Kodak         3        1.117731        0.936166        1.214951   \n",
       "11        Samsung         3        0.980771        0.774880        1.042722   \n",
       "12          Apple         1        0.840908        0.435542        0.953302   \n",
       "\n",
       "    Centroid_Dist3  Centroid_Dist4  \n",
       "0         0.945163    1.126337e+00  \n",
       "1         0.801038    9.738933e-01  \n",
       "2         0.983263    1.120567e+00  \n",
       "3         0.838758    9.700533e-01  \n",
       "4         1.019595    1.161116e+00  \n",
       "5         0.861439    8.541596e-01  \n",
       "6         1.066094    1.210479e+00  \n",
       "7         0.993947    1.053671e-08  \n",
       "8         0.938185    1.108507e+00  \n",
       "9         0.396716    1.075751e+00  \n",
       "10        0.559379    1.150165e+00  \n",
       "11        0.329264    1.030714e+00  \n",
       "12        0.779449    9.286431e-01  "
      ]
     },
     "execution_count": 62,
     "metadata": {},
     "output_type": "execute_result"
    }
   ],
   "source": [
    "companies = {'Company': company_names, 'Cluster#': cluster_membership,\\\n",
    "            'Centroid_Dist0':company_distance_to_center[0:,0],\\\n",
    "            'Centroid_Dist1':company_distance_to_center[0:,1],\\\n",
    "            'Centroid_Dist2':company_distance_to_center[0:,2],\\\n",
    "            'Centroid_Dist3':company_distance_to_center[0:,3],\\\n",
    "            'Centroid_Dist4':company_distance_to_center[0:,4]\n",
    "            }\n",
    "#let us put into the dataframe\n",
    "df = pd.DataFrame(companies)\n",
    "df"
   ]
  },
  {
   "cell_type": "markdown",
   "metadata": {},
   "source": [
    "#### Do these unsupervised algorithms yields any similarity?\n",
    "Yes, they do have similarities. In case of k means clustering the centroid distance from companies and  in case of Multidimensional scaling the distance between each company, whereas in Hierachial clustering the grouping between similar companies. For example Apple,Google,Nokia have almost same distance from their centroids in kmeans, in hierachial clustering we see that Apple,Google,Nokia are grouped into clusters, Similarly in multidimensional scale  they can be seen grouped or with minimum distance to each other."
   ]
  },
  {
   "cell_type": "markdown",
   "metadata": {},
   "source": [
    "### Topic Modeling"
   ]
  },
  {
   "cell_type": "markdown",
   "metadata": {},
   "source": [
    "NMF"
   ]
  },
  {
   "cell_type": "code",
   "execution_count": 63,
   "metadata": {},
   "outputs": [],
   "source": [
    "vocab = vectorizer.get_feature_names()\n",
    "num_topics = 5\n",
    "num_top_words = 20\n",
    "clf = decomposition.NMF(n_components = num_topics, random_state=1)\n",
    "doctopic = clf.fit_transform(dtm)\n",
    "topic_words = []\n",
    "for topic in clf.components_:\n",
    "    word_idx = np.argsort(topic)[::-1][0:num_top_words]\n",
    "    topic_words.append([vocab[i] for i in word_idx])\n"
   ]
  },
  {
   "cell_type": "code",
   "execution_count": 64,
   "metadata": {},
   "outputs": [
    {
     "name": "stdout",
     "output_type": "stream",
     "text": [
      "Topic 0: data method user device network second information includes based associated memory application plurality set computer\n",
      "Topic 1: method layer image second electrode device data light display includes having substrate apparatus liquid organic\n",
      "Topic 2: device second electronic remote unit portable antenna host nan circuit plurality user communication body tones\n",
      "Topic 3: method network service invention control packet signal present terminal device communication data gateway media user\n",
      "Topic 4: communication mobile terminal data method signal channel unit wireless information wtru device power station having\n"
     ]
    }
   ],
   "source": [
    "for t in range(len(topic_words)):\n",
    "    print(\"Topic {}: {}\".format(t, ' '.join(topic_words[t][:15])))"
   ]
  },
  {
   "cell_type": "markdown",
   "metadata": {},
   "source": [
    "LDA"
   ]
  },
  {
   "cell_type": "code",
   "execution_count": 65,
   "metadata": {},
   "outputs": [],
   "source": [
    "count_vectorizer = CountVectorizer(max_df=0.95, min_df=2, max_features=10000, stop_words='english')\n",
    "num_topics = 5 #arbitrary\n",
    "dtm_count = count_vectorizer.fit_transform(docs)\n"
   ]
  },
  {
   "cell_type": "code",
   "execution_count": 66,
   "metadata": {},
   "outputs": [],
   "source": [
    "lda = LatentDirichletAllocation(n_components=num_topics, learning_method='batch',  max_iter=2000, random_state=0)\n",
    "document_topics = lda.fit_transform(dtm_count)\n",
    "feature_names = count_vectorizer.get_feature_names()\n"
   ]
  },
  {
   "cell_type": "code",
   "execution_count": 67,
   "metadata": {},
   "outputs": [
    {
     "name": "stdout",
     "output_type": "stream",
     "text": [
      "Topic 0:\n",
      "layer substrate display semiconductor electrode light image gate provided region\n",
      "Topic 1:\n",
      "associated application provided message electronic computer node media content received\n",
      "Topic 2:\n",
      "station display image message broadcast area hinge rf audio pixel\n",
      "Topic 3:\n",
      "display layer electrode substrate liquid crystal gate recording line pixel\n",
      "Topic 4:\n",
      "image layer color light images printing material substrate camera surface\n"
     ]
    }
   ],
   "source": [
    "def display_topics(model, feature_names, n_top_words):\n",
    "    for index, topic in enumerate(model.components_):\n",
    "        print(\"Topic %d:\" % (index))\n",
    "        print(\" \".join([feature_names[i]\n",
    "                        for i in topic.argsort()[:-n_top_words - 1:-1]]))\n",
    "\n",
    "display_topics(lda, feature_names, 10)\n"
   ]
  },
  {
   "cell_type": "markdown",
   "metadata": {},
   "source": [
    "LSA/LSI"
   ]
  },
  {
   "cell_type": "code",
   "execution_count": 68,
   "metadata": {},
   "outputs": [
    {
     "name": "stdout",
     "output_type": "stream",
     "text": [
      "LSI being performed ...\n",
      "(13, 5)\n",
      "Generating LSI Model .....\n",
      "Topic 0:\n",
      "method data device second communication signal network information includes user mobile terminal unit apparatus image control plurality display invention based\n",
      "Topic 1:\n",
      "image layer electrode second light display substrate having organic liquid color device printing gate includes film surface formed crystal material\n",
      "Topic 2:\n",
      "electronic device mobile remote portable antenna second communication host nan unit tones body circuit handheld hinge housing board terminal connecting\n",
      "Topic 3:\n",
      "terminal mobile communication unit signal channel electrode having display layer wireless crystal pixel area station broadcast substrate hinge liquid gate\n",
      "Topic 4:\n",
      "wtru data channel received code wireless signal communication receive transmit apparatus antenna plurality signals ap receiver station wtrus noise using\n"
     ]
    }
   ],
   "source": [
    "def get_topics(model, vectorizer, model_name, df, top_n = 20):\n",
    "        result = []\n",
    "        for index, topic in enumerate(model.components_): \n",
    "            print(\"Topic %d:\" % (index))\n",
    "            topic_label = model_name + \"_topic_\" + str(index)   \n",
    "            score = \"SCORE_\" + str(index)\n",
    "            print(\" \".join([vocab[i] for i in topic.argsort()[:-top_n - 1:-1]]))\n",
    "            \n",
    "print(\"LSI being performed ...\")    # Build a Latent Semantic Indexing Model \n",
    "\n",
    "lsi_model = TruncatedSVD(n_components=5, n_iter = 5000)\n",
    "\n",
    "lsi_Z = lsi_model.fit_transform(dtm)\n",
    "\n",
    "print(lsi_Z.shape)\n",
    "# (NO_DOCUMENTS, NO_TOPICS)\n",
    "\n",
    "print(\"Generating LSI Model .....\")\n",
    "\n",
    "get_topics(lsi_model, vectorizer, \"LSI\", pd.DataFrame())\n",
    "\n"
   ]
  },
  {
   "cell_type": "markdown",
   "metadata": {},
   "source": [
    "#### Are these results similar?\n",
    "Yes, We do have similarity in topics."
   ]
  },
  {
   "cell_type": "code",
   "execution_count": null,
   "metadata": {},
   "outputs": [],
   "source": []
  }
 ],
 "metadata": {
  "kernelspec": {
   "display_name": "Python 3",
   "language": "python",
   "name": "python3"
  },
  "language_info": {
   "codemirror_mode": {
    "name": "ipython",
    "version": 3
   },
   "file_extension": ".py",
   "mimetype": "text/x-python",
   "name": "python",
   "nbconvert_exporter": "python",
   "pygments_lexer": "ipython3",
   "version": "3.7.4"
  }
 },
 "nbformat": 4,
 "nbformat_minor": 2
}
