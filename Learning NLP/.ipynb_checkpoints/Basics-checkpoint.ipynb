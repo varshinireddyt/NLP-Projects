{
 "cells": [
  {
   "cell_type": "code",
   "execution_count": 6,
   "metadata": {},
   "outputs": [
    {
     "name": "stdout",
     "output_type": "stream",
     "text": [
      "NLTK Downloader\n",
      "---------------------------------------------------------------------------\n",
      "    d) Download   l) List    u) Update   c) Config   h) Help   q) Quit\n",
      "---------------------------------------------------------------------------\n",
      "Downloader> D\n",
      "\n",
      "Download which package (l=list; x=cancel)?\n",
      "  Identifier> l\n",
      "Packages:\n",
      "  [ ] abc................. Australian Broadcasting Commission 2006\n",
      "  [ ] alpino.............. Alpino Dutch Treebank\n",
      "  [ ] averaged_perceptron_tagger Averaged Perceptron Tagger\n",
      "  [ ] averaged_perceptron_tagger_ru Averaged Perceptron Tagger (Russian)\n",
      "  [ ] basque_grammars..... Grammars for Basque\n",
      "  [ ] biocreative_ppi..... BioCreAtIvE (Critical Assessment of Information\n",
      "                           Extraction Systems in Biology)\n",
      "  [ ] bllip_wsj_no_aux.... BLLIP Parser: WSJ Model\n",
      "  [ ] book_grammars....... Grammars from NLTK Book\n",
      "  [ ] brown............... Brown Corpus\n",
      "  [ ] brown_tei........... Brown Corpus (TEI XML Version)\n",
      "  [ ] cess_cat............ CESS-CAT Treebank\n",
      "  [ ] cess_esp............ CESS-ESP Treebank\n",
      "  [ ] chat80.............. Chat-80 Data Files\n",
      "  [ ] city_database....... City Database\n",
      "  [ ] cmudict............. The Carnegie Mellon Pronouncing Dictionary (0.6)\n",
      "  [ ] comparative_sentences Comparative Sentence Dataset\n",
      "  [ ] comtrans............ ComTrans Corpus Sample\n",
      "  [ ] conll2000........... CONLL 2000 Chunking Corpus\n",
      "  [ ] conll2002........... CONLL 2002 Named Entity Recognition Corpus\n",
      "Hit Enter to continue: all\n",
      "  [ ] conll2007........... Dependency Treebanks from CoNLL 2007 (Catalan\n",
      "                           and Basque Subset)\n",
      "  [ ] crubadan............ Crubadan Corpus\n",
      "  [ ] dependency_treebank. Dependency Parsed Treebank\n",
      "  [ ] dolch............... Dolch Word List\n",
      "  [ ] europarl_raw........ Sample European Parliament Proceedings Parallel\n",
      "                           Corpus\n",
      "  [ ] floresta............ Portuguese Treebank\n",
      "  [ ] framenet_v15........ FrameNet 1.5\n",
      "  [ ] framenet_v17........ FrameNet 1.7\n",
      "  [ ] gazetteers.......... Gazeteer Lists\n",
      "  [ ] genesis............. Genesis Corpus\n",
      "  [ ] gutenberg........... Project Gutenberg Selections\n",
      "  [ ] ieer................ NIST IE-ER DATA SAMPLE\n",
      "  [ ] inaugural........... C-Span Inaugural Address Corpus\n",
      "  [ ] indian.............. Indian Language POS-Tagged Corpus\n",
      "  [ ] jeita............... JEITA Public Morphologically Tagged Corpus (in\n",
      "                           ChaSen format)\n",
      "  [ ] kimmo............... PC-KIMMO Data Files\n",
      "  [ ] knbc................ KNB Corpus (Annotated blog corpus)\n",
      "  [ ] large_grammars...... Large context-free and feature-based grammars\n",
      "                           for parser comparison\n",
      "Hit Enter to continue: \n",
      "  [ ] lin_thesaurus....... Lin's Dependency Thesaurus\n",
      "  [ ] mac_morpho.......... MAC-MORPHO: Brazilian Portuguese news text with\n",
      "                           part-of-speech tags\n",
      "  [ ] machado............. Machado de Assis -- Obra Completa\n",
      "  [ ] masc_tagged......... MASC Tagged Corpus\n",
      "  [ ] maxent_ne_chunker... ACE Named Entity Chunker (Maximum entropy)\n",
      "  [ ] maxent_treebank_pos_tagger Treebank Part of Speech Tagger (Maximum entropy)\n",
      "  [ ] moses_sample........ Moses Sample Models\n",
      "  [ ] movie_reviews....... Sentiment Polarity Dataset Version 2.0\n",
      "  [ ] mte_teip5........... MULTEXT-East 1984 annotated corpus 4.0\n",
      "  [ ] mwa_ppdb............ The monolingual word aligner (Sultan et al.\n",
      "                           2015) subset of the Paraphrase Database.\n",
      "  [ ] names............... Names Corpus, Version 1.3 (1994-03-29)\n",
      "  [ ] nombank.1.0......... NomBank Corpus 1.0\n",
      "  [ ] nonbreaking_prefixes Non-Breaking Prefixes (Moses Decoder)\n",
      "  [ ] nps_chat............ NPS Chat\n",
      "  [ ] omw................. Open Multilingual Wordnet\n",
      "  [ ] opinion_lexicon..... Opinion Lexicon\n",
      "  [ ] panlex_swadesh...... PanLex Swadesh Corpora\n",
      "  [ ] paradigms........... Paradigm Corpus\n",
      "  [ ] pe08................ Cross-Framework and Cross-Domain Parser\n",
      "                           Evaluation Shared Task\n",
      "Hit Enter to continue: x\n",
      "\n",
      "Download which package (l=list; x=cancel)?\n",
      "  Identifier> all\n"
     ]
    },
    {
     "name": "stderr",
     "output_type": "stream",
     "text": [
      "    Downloading collection 'all'\n",
      "       | \n",
      "       | Downloading package abc to\n",
      "       |     /Users/srikanthadavalli/nltk_data...\n",
      "       |   Unzipping corpora/abc.zip.\n",
      "       | Downloading package alpino to\n",
      "       |     /Users/srikanthadavalli/nltk_data...\n",
      "       |   Unzipping corpora/alpino.zip.\n",
      "       | Downloading package biocreative_ppi to\n",
      "       |     /Users/srikanthadavalli/nltk_data...\n",
      "       |   Unzipping corpora/biocreative_ppi.zip.\n",
      "       | Downloading package brown to\n",
      "       |     /Users/srikanthadavalli/nltk_data...\n",
      "       |   Unzipping corpora/brown.zip.\n",
      "       | Downloading package brown_tei to\n",
      "       |     /Users/srikanthadavalli/nltk_data...\n",
      "       |   Unzipping corpora/brown_tei.zip.\n",
      "       | Downloading package cess_cat to\n",
      "       |     /Users/srikanthadavalli/nltk_data...\n",
      "       |   Unzipping corpora/cess_cat.zip.\n",
      "       | Downloading package cess_esp to\n",
      "       |     /Users/srikanthadavalli/nltk_data...\n",
      "       |   Unzipping corpora/cess_esp.zip.\n",
      "       | Downloading package chat80 to\n",
      "       |     /Users/srikanthadavalli/nltk_data...\n",
      "       |   Unzipping corpora/chat80.zip.\n",
      "       | Downloading package city_database to\n",
      "       |     /Users/srikanthadavalli/nltk_data...\n",
      "       |   Unzipping corpora/city_database.zip.\n",
      "       | Downloading package cmudict to\n",
      "       |     /Users/srikanthadavalli/nltk_data...\n",
      "       |   Unzipping corpora/cmudict.zip.\n",
      "       | Downloading package comparative_sentences to\n",
      "       |     /Users/srikanthadavalli/nltk_data...\n",
      "       |   Unzipping corpora/comparative_sentences.zip.\n",
      "       | Downloading package comtrans to\n",
      "       |     /Users/srikanthadavalli/nltk_data...\n",
      "       | Downloading package conll2000 to\n",
      "       |     /Users/srikanthadavalli/nltk_data...\n",
      "       |   Unzipping corpora/conll2000.zip.\n",
      "       | Downloading package conll2002 to\n",
      "       |     /Users/srikanthadavalli/nltk_data...\n",
      "       |   Unzipping corpora/conll2002.zip.\n",
      "       | Downloading package conll2007 to\n",
      "       |     /Users/srikanthadavalli/nltk_data...\n",
      "       | Downloading package crubadan to\n",
      "       |     /Users/srikanthadavalli/nltk_data...\n",
      "       |   Unzipping corpora/crubadan.zip.\n",
      "       | Downloading package dependency_treebank to\n",
      "       |     /Users/srikanthadavalli/nltk_data...\n",
      "       |   Unzipping corpora/dependency_treebank.zip.\n",
      "       | Downloading package dolch to\n",
      "       |     /Users/srikanthadavalli/nltk_data...\n",
      "       |   Unzipping corpora/dolch.zip.\n",
      "       | Downloading package europarl_raw to\n",
      "       |     /Users/srikanthadavalli/nltk_data...\n",
      "       |   Unzipping corpora/europarl_raw.zip.\n",
      "       | Downloading package floresta to\n",
      "       |     /Users/srikanthadavalli/nltk_data...\n",
      "       |   Unzipping corpora/floresta.zip.\n",
      "       | Downloading package framenet_v15 to\n",
      "       |     /Users/srikanthadavalli/nltk_data...\n",
      "       |   Unzipping corpora/framenet_v15.zip.\n",
      "       | Downloading package framenet_v17 to\n",
      "       |     /Users/srikanthadavalli/nltk_data...\n",
      "       |   Unzipping corpora/framenet_v17.zip.\n",
      "       | Downloading package gazetteers to\n",
      "       |     /Users/srikanthadavalli/nltk_data...\n",
      "       |   Unzipping corpora/gazetteers.zip.\n",
      "       | Downloading package genesis to\n",
      "       |     /Users/srikanthadavalli/nltk_data...\n",
      "       |   Unzipping corpora/genesis.zip.\n",
      "       | Downloading package gutenberg to\n",
      "       |     /Users/srikanthadavalli/nltk_data...\n",
      "       |   Unzipping corpora/gutenberg.zip.\n",
      "       | Downloading package ieer to\n",
      "       |     /Users/srikanthadavalli/nltk_data...\n",
      "       |   Unzipping corpora/ieer.zip.\n",
      "       | Downloading package inaugural to\n",
      "       |     /Users/srikanthadavalli/nltk_data...\n",
      "       |   Unzipping corpora/inaugural.zip.\n",
      "       | Downloading package indian to\n",
      "       |     /Users/srikanthadavalli/nltk_data...\n",
      "       |   Unzipping corpora/indian.zip.\n",
      "       | Downloading package jeita to\n",
      "       |     /Users/srikanthadavalli/nltk_data...\n",
      "       | Downloading package kimmo to\n",
      "       |     /Users/srikanthadavalli/nltk_data...\n",
      "       |   Unzipping corpora/kimmo.zip.\n",
      "       | Downloading package knbc to\n",
      "       |     /Users/srikanthadavalli/nltk_data...\n",
      "       | Downloading package lin_thesaurus to\n",
      "       |     /Users/srikanthadavalli/nltk_data...\n",
      "       |   Unzipping corpora/lin_thesaurus.zip.\n",
      "       | Downloading package mac_morpho to\n",
      "       |     /Users/srikanthadavalli/nltk_data...\n",
      "       |   Unzipping corpora/mac_morpho.zip.\n",
      "       | Downloading package machado to\n",
      "       |     /Users/srikanthadavalli/nltk_data...\n",
      "       | Downloading package masc_tagged to\n",
      "       |     /Users/srikanthadavalli/nltk_data...\n",
      "       | Downloading package moses_sample to\n",
      "       |     /Users/srikanthadavalli/nltk_data...\n",
      "       |   Unzipping models/moses_sample.zip.\n",
      "       | Downloading package movie_reviews to\n",
      "       |     /Users/srikanthadavalli/nltk_data...\n",
      "       |   Unzipping corpora/movie_reviews.zip.\n",
      "       | Downloading package names to\n",
      "       |     /Users/srikanthadavalli/nltk_data...\n",
      "       |   Unzipping corpora/names.zip.\n",
      "       | Downloading package nombank.1.0 to\n",
      "       |     /Users/srikanthadavalli/nltk_data...\n",
      "       | Downloading package nps_chat to\n",
      "       |     /Users/srikanthadavalli/nltk_data...\n",
      "       |   Unzipping corpora/nps_chat.zip.\n",
      "       | Downloading package omw to\n",
      "       |     /Users/srikanthadavalli/nltk_data...\n",
      "       |   Unzipping corpora/omw.zip.\n",
      "       | Downloading package opinion_lexicon to\n",
      "       |     /Users/srikanthadavalli/nltk_data...\n",
      "       |   Unzipping corpora/opinion_lexicon.zip.\n",
      "       | Downloading package paradigms to\n",
      "       |     /Users/srikanthadavalli/nltk_data...\n",
      "       |   Unzipping corpora/paradigms.zip.\n",
      "       | Downloading package pil to\n",
      "       |     /Users/srikanthadavalli/nltk_data...\n",
      "       |   Unzipping corpora/pil.zip.\n",
      "       | Downloading package pl196x to\n",
      "       |     /Users/srikanthadavalli/nltk_data...\n",
      "       |   Unzipping corpora/pl196x.zip.\n",
      "       | Downloading package ppattach to\n",
      "       |     /Users/srikanthadavalli/nltk_data...\n",
      "       |   Unzipping corpora/ppattach.zip.\n",
      "       | Downloading package problem_reports to\n",
      "       |     /Users/srikanthadavalli/nltk_data...\n",
      "       |   Unzipping corpora/problem_reports.zip.\n",
      "       | Downloading package propbank to\n",
      "       |     /Users/srikanthadavalli/nltk_data...\n",
      "       | Downloading package ptb to\n",
      "       |     /Users/srikanthadavalli/nltk_data...\n",
      "       |   Unzipping corpora/ptb.zip.\n",
      "       | Downloading package product_reviews_1 to\n",
      "       |     /Users/srikanthadavalli/nltk_data...\n",
      "       |   Unzipping corpora/product_reviews_1.zip.\n",
      "       | Downloading package product_reviews_2 to\n",
      "       |     /Users/srikanthadavalli/nltk_data...\n",
      "       |   Unzipping corpora/product_reviews_2.zip.\n",
      "       | Downloading package pros_cons to\n",
      "       |     /Users/srikanthadavalli/nltk_data...\n",
      "       |   Unzipping corpora/pros_cons.zip.\n",
      "       | Downloading package qc to\n",
      "       |     /Users/srikanthadavalli/nltk_data...\n",
      "       |   Unzipping corpora/qc.zip.\n",
      "       | Downloading package reuters to\n",
      "       |     /Users/srikanthadavalli/nltk_data...\n",
      "       | Downloading package rte to\n",
      "       |     /Users/srikanthadavalli/nltk_data...\n",
      "       |   Unzipping corpora/rte.zip.\n",
      "       | Downloading package semcor to\n",
      "       |     /Users/srikanthadavalli/nltk_data...\n",
      "       | Downloading package senseval to\n",
      "       |     /Users/srikanthadavalli/nltk_data...\n",
      "       |   Unzipping corpora/senseval.zip.\n",
      "       | Downloading package sentiwordnet to\n",
      "       |     /Users/srikanthadavalli/nltk_data...\n",
      "       |   Unzipping corpora/sentiwordnet.zip.\n",
      "       | Downloading package sentence_polarity to\n",
      "       |     /Users/srikanthadavalli/nltk_data...\n",
      "       |   Unzipping corpora/sentence_polarity.zip.\n",
      "       | Downloading package shakespeare to\n",
      "       |     /Users/srikanthadavalli/nltk_data...\n",
      "       |   Unzipping corpora/shakespeare.zip.\n",
      "       | Downloading package sinica_treebank to\n",
      "       |     /Users/srikanthadavalli/nltk_data...\n",
      "       |   Unzipping corpora/sinica_treebank.zip.\n",
      "       | Downloading package smultron to\n",
      "       |     /Users/srikanthadavalli/nltk_data...\n",
      "       |   Unzipping corpora/smultron.zip.\n",
      "       | Downloading package state_union to\n",
      "       |     /Users/srikanthadavalli/nltk_data...\n",
      "       |   Unzipping corpora/state_union.zip.\n",
      "       | Downloading package stopwords to\n",
      "       |     /Users/srikanthadavalli/nltk_data...\n",
      "       |   Unzipping corpora/stopwords.zip.\n",
      "       | Downloading package subjectivity to\n",
      "       |     /Users/srikanthadavalli/nltk_data...\n"
     ]
    },
    {
     "name": "stderr",
     "output_type": "stream",
     "text": [
      "       |   Unzipping corpora/subjectivity.zip.\n",
      "       | Downloading package swadesh to\n",
      "       |     /Users/srikanthadavalli/nltk_data...\n",
      "       |   Unzipping corpora/swadesh.zip.\n",
      "       | Downloading package switchboard to\n",
      "       |     /Users/srikanthadavalli/nltk_data...\n",
      "       |   Unzipping corpora/switchboard.zip.\n",
      "       | Downloading package timit to\n",
      "       |     /Users/srikanthadavalli/nltk_data...\n",
      "       |   Unzipping corpora/timit.zip.\n",
      "       | Downloading package toolbox to\n",
      "       |     /Users/srikanthadavalli/nltk_data...\n",
      "       |   Unzipping corpora/toolbox.zip.\n",
      "       | Downloading package treebank to\n",
      "       |     /Users/srikanthadavalli/nltk_data...\n",
      "       |   Unzipping corpora/treebank.zip.\n",
      "       | Downloading package twitter_samples to\n",
      "       |     /Users/srikanthadavalli/nltk_data...\n",
      "       |   Unzipping corpora/twitter_samples.zip.\n",
      "       | Downloading package udhr to\n",
      "       |     /Users/srikanthadavalli/nltk_data...\n",
      "       |   Unzipping corpora/udhr.zip.\n",
      "       | Downloading package udhr2 to\n",
      "       |     /Users/srikanthadavalli/nltk_data...\n",
      "       |   Unzipping corpora/udhr2.zip.\n",
      "       | Downloading package unicode_samples to\n",
      "       |     /Users/srikanthadavalli/nltk_data...\n",
      "       |   Unzipping corpora/unicode_samples.zip.\n",
      "       | Downloading package universal_treebanks_v20 to\n",
      "       |     /Users/srikanthadavalli/nltk_data...\n",
      "       | Downloading package verbnet to\n",
      "       |     /Users/srikanthadavalli/nltk_data...\n",
      "       |   Unzipping corpora/verbnet.zip.\n",
      "       | Downloading package verbnet3 to\n",
      "       |     /Users/srikanthadavalli/nltk_data...\n",
      "       |   Unzipping corpora/verbnet3.zip.\n",
      "       | Downloading package webtext to\n",
      "       |     /Users/srikanthadavalli/nltk_data...\n",
      "       |   Unzipping corpora/webtext.zip.\n",
      "       | Downloading package wordnet to\n",
      "       |     /Users/srikanthadavalli/nltk_data...\n",
      "       |   Unzipping corpora/wordnet.zip.\n",
      "       | Downloading package wordnet_ic to\n",
      "       |     /Users/srikanthadavalli/nltk_data...\n",
      "       |   Unzipping corpora/wordnet_ic.zip.\n",
      "       | Downloading package words to\n",
      "       |     /Users/srikanthadavalli/nltk_data...\n",
      "       |   Unzipping corpora/words.zip.\n",
      "       | Downloading package ycoe to\n",
      "       |     /Users/srikanthadavalli/nltk_data...\n",
      "       |   Unzipping corpora/ycoe.zip.\n",
      "       | Downloading package rslp to\n",
      "       |     /Users/srikanthadavalli/nltk_data...\n",
      "       |   Unzipping stemmers/rslp.zip.\n",
      "       | Downloading package maxent_treebank_pos_tagger to\n",
      "       |     /Users/srikanthadavalli/nltk_data...\n",
      "       |   Unzipping taggers/maxent_treebank_pos_tagger.zip.\n",
      "       | Downloading package universal_tagset to\n",
      "       |     /Users/srikanthadavalli/nltk_data...\n",
      "       |   Unzipping taggers/universal_tagset.zip.\n",
      "       | Downloading package maxent_ne_chunker to\n",
      "       |     /Users/srikanthadavalli/nltk_data...\n",
      "       |   Unzipping chunkers/maxent_ne_chunker.zip.\n",
      "       | Downloading package punkt to\n",
      "       |     /Users/srikanthadavalli/nltk_data...\n",
      "       |   Unzipping tokenizers/punkt.zip.\n",
      "       | Downloading package book_grammars to\n",
      "       |     /Users/srikanthadavalli/nltk_data...\n",
      "       |   Unzipping grammars/book_grammars.zip.\n",
      "       | Downloading package sample_grammars to\n",
      "       |     /Users/srikanthadavalli/nltk_data...\n",
      "       |   Unzipping grammars/sample_grammars.zip.\n",
      "       | Downloading package spanish_grammars to\n",
      "       |     /Users/srikanthadavalli/nltk_data...\n",
      "       |   Unzipping grammars/spanish_grammars.zip.\n",
      "       | Downloading package basque_grammars to\n",
      "       |     /Users/srikanthadavalli/nltk_data...\n",
      "       |   Unzipping grammars/basque_grammars.zip.\n",
      "       | Downloading package large_grammars to\n",
      "       |     /Users/srikanthadavalli/nltk_data...\n",
      "       |   Unzipping grammars/large_grammars.zip.\n",
      "       | Downloading package tagsets to\n",
      "       |     /Users/srikanthadavalli/nltk_data...\n",
      "       |   Unzipping help/tagsets.zip.\n",
      "       | Downloading package snowball_data to\n",
      "       |     /Users/srikanthadavalli/nltk_data...\n",
      "       | Downloading package bllip_wsj_no_aux to\n",
      "       |     /Users/srikanthadavalli/nltk_data...\n",
      "       |   Unzipping models/bllip_wsj_no_aux.zip.\n",
      "       | Downloading package word2vec_sample to\n",
      "       |     /Users/srikanthadavalli/nltk_data...\n",
      "       |   Unzipping models/word2vec_sample.zip.\n",
      "       | Downloading package panlex_swadesh to\n",
      "       |     /Users/srikanthadavalli/nltk_data...\n",
      "       | Downloading package mte_teip5 to\n",
      "       |     /Users/srikanthadavalli/nltk_data...\n",
      "       |   Unzipping corpora/mte_teip5.zip.\n",
      "       | Downloading package averaged_perceptron_tagger to\n",
      "       |     /Users/srikanthadavalli/nltk_data...\n",
      "       |   Unzipping taggers/averaged_perceptron_tagger.zip.\n",
      "       | Downloading package averaged_perceptron_tagger_ru to\n",
      "       |     /Users/srikanthadavalli/nltk_data...\n",
      "       |   Unzipping taggers/averaged_perceptron_tagger_ru.zip.\n",
      "       | Downloading package perluniprops to\n",
      "       |     /Users/srikanthadavalli/nltk_data...\n",
      "       |   Unzipping misc/perluniprops.zip.\n",
      "       | Downloading package nonbreaking_prefixes to\n",
      "       |     /Users/srikanthadavalli/nltk_data...\n",
      "       |   Unzipping corpora/nonbreaking_prefixes.zip.\n",
      "       | Downloading package vader_lexicon to\n",
      "       |     /Users/srikanthadavalli/nltk_data...\n",
      "       | Downloading package porter_test to\n",
      "       |     /Users/srikanthadavalli/nltk_data...\n",
      "       |   Unzipping stemmers/porter_test.zip.\n",
      "       | Downloading package wmt15_eval to\n",
      "       |     /Users/srikanthadavalli/nltk_data...\n",
      "       |   Unzipping models/wmt15_eval.zip.\n",
      "       | Downloading package mwa_ppdb to\n",
      "       |     /Users/srikanthadavalli/nltk_data...\n",
      "       |   Unzipping misc/mwa_ppdb.zip.\n",
      "       | \n",
      "     Done downloading collection all\n"
     ]
    },
    {
     "name": "stdout",
     "output_type": "stream",
     "text": [
      "\n",
      "---------------------------------------------------------------------------\n",
      "    d) Download   l) List    u) Update   c) Config   h) Help   q) Quit\n",
      "---------------------------------------------------------------------------\n",
      "Downloader> q\n"
     ]
    }
   ],
   "source": [
    "import nltk\n",
    "nltk.download_shell() "
   ]
  },
  {
   "cell_type": "markdown",
   "metadata": {},
   "source": [
    "#### Tokenizing - word tokenizer, snetence tokenizer"
   ]
  },
  {
   "cell_type": "code",
   "execution_count": 11,
   "metadata": {},
   "outputs": [],
   "source": [
    "from nltk import word_tokenize,sent_tokenize\n",
    "example = \"Hello there! This is my fist NLP learning file. This file describes about word tokenizer, sentence tokenixer\""
   ]
  },
  {
   "cell_type": "code",
   "execution_count": 8,
   "metadata": {},
   "outputs": [
    {
     "name": "stdout",
     "output_type": "stream",
     "text": [
      "Hello there! This is my fist NLP learning file. This file describes about word tokenizer, sentence tokenixer\n"
     ]
    }
   ],
   "source": [
    "print(example)"
   ]
  },
  {
   "cell_type": "code",
   "execution_count": 15,
   "metadata": {},
   "outputs": [
    {
     "name": "stdout",
     "output_type": "stream",
     "text": [
      "['Hello', 'there', '!', 'This', 'is', 'my', 'fist', 'NLP', 'learning', 'file', '.', 'This', 'file', 'describes', 'about', 'word', 'tokenizer', ',', 'sentence', 'tokenixer']\n"
     ]
    }
   ],
   "source": [
    "words = word_tokenize(example)\n",
    "print(words)"
   ]
  },
  {
   "cell_type": "code",
   "execution_count": 23,
   "metadata": {},
   "outputs": [
    {
     "data": {
      "text/plain": [
       "[('I', 'am'),\n",
       " ('am', 'running'),\n",
       " ('running', 'late'),\n",
       " ('late', 'because'),\n",
       " ('because', 'I'),\n",
       " ('I', \"'m\"),\n",
       " (\"'m\", 'listening'),\n",
       " ('listening', 'to'),\n",
       " ('to', 'music')]"
      ]
     },
     "execution_count": 23,
     "metadata": {},
     "output_type": "execute_result"
    }
   ],
   "source": [
    "#bigrams\n",
    "list(nltk.bigrams(words))"
   ]
  },
  {
   "cell_type": "code",
   "execution_count": 24,
   "metadata": {},
   "outputs": [
    {
     "data": {
      "text/plain": [
       "[('I', 'am', 'running'),\n",
       " ('am', 'running', 'late'),\n",
       " ('running', 'late', 'because'),\n",
       " ('late', 'because', 'I'),\n",
       " ('because', 'I', \"'m\"),\n",
       " ('I', \"'m\", 'listening'),\n",
       " (\"'m\", 'listening', 'to'),\n",
       " ('listening', 'to', 'music')]"
      ]
     },
     "execution_count": 24,
     "metadata": {},
     "output_type": "execute_result"
    }
   ],
   "source": [
    "#trigrams\n",
    "list(nltk.trigrams(words))"
   ]
  },
  {
   "cell_type": "code",
   "execution_count": 25,
   "metadata": {},
   "outputs": [
    {
     "data": {
      "text/plain": [
       "[('I', 'am', 'running', 'late'),\n",
       " ('am', 'running', 'late', 'because'),\n",
       " ('running', 'late', 'because', 'I'),\n",
       " ('late', 'because', 'I', \"'m\"),\n",
       " ('because', 'I', \"'m\", 'listening'),\n",
       " ('I', \"'m\", 'listening', 'to'),\n",
       " (\"'m\", 'listening', 'to', 'music')]"
      ]
     },
     "execution_count": 25,
     "metadata": {},
     "output_type": "execute_result"
    }
   ],
   "source": [
    "#ngrams\n",
    "list(nltk.ngrams(words,4))"
   ]
  },
  {
   "cell_type": "raw",
   "metadata": {},
   "source": []
  },
  {
   "cell_type": "markdown",
   "metadata": {},
   "source": [
    "#### Stop words: filtering out unncerssary wirds like a, an, is, was, about etc"
   ]
  },
  {
   "cell_type": "code",
   "execution_count": 14,
   "metadata": {},
   "outputs": [
    {
     "name": "stdout",
     "output_type": "stream",
     "text": [
      "{\"should've\", \"it's\", \"shan't\", 'do', 'only', 'until', 'the', 'while', 'themselves', 'against', 'or', 'when', 'out', 'further', 'my', 'down', 'y', 'with', 'ain', 'their', 'isn', 'those', 'mustn', \"wouldn't\", 'such', 'am', 'over', 'then', 'where', 'there', 've', \"shouldn't\", 'what', 'how', 'own', 'same', 'who', 'don', 'her', 'whom', 'these', 'ourselves', 'having', \"hasn't\", 'have', 'because', 'just', 'herself', 'its', 'your', 'will', 'been', \"you're\", 'below', 'so', 'm', 'i', 'are', 'at', 'ma', 'should', 'yourself', 'in', 'most', 'about', 'and', 'again', 'ours', 'has', 'some', 'we', 'doesn', 'him', \"you'll\", 'it', 'once', 'of', \"you've\", 'after', 'from', \"that'll\", 'very', \"mightn't\", 'each', 'our', 'were', 'you', 'that', 'both', 'shouldn', 'yours', 'itself', 'his', 'to', 'had', \"she's\", 'does', 'weren', \"haven't\", 'haven', 'this', 'wouldn', 're', 'theirs', 't', 'by', 'on', 'did', 'is', \"aren't\", \"doesn't\", 'hers', 'needn', 'himself', 'during', 'he', \"won't\", 'shan', \"couldn't\", 'be', 'aren', 'if', 'being', 'than', \"isn't\", 'd', 'mightn', 'above', 'which', \"weren't\", 'more', 'hadn', 'too', 'doing', 'didn', 'for', 'me', 'hasn', \"you'd\", 'they', 'nor', \"didn't\", 'was', 'an', 'all', 'not', \"wasn't\", 'through', 'a', 'll', 'into', 'few', 'under', 'here', 'before', \"hadn't\", 'can', \"needn't\", 'why', 'now', 'couldn', 'myself', 'any', 'as', 'but', 'won', 'no', 'off', 'between', 's', \"don't\", 'yourselves', 'she', 'them', 'other', 'wasn', \"mustn't\", 'up', 'o'}\n"
     ]
    }
   ],
   "source": [
    "from nltk.corpus import stopwords\n",
    "stop_words = set(stopwords.words(\"english\"))\n",
    "print(stop_words)"
   ]
  },
  {
   "cell_type": "code",
   "execution_count": 16,
   "metadata": {},
   "outputs": [
    {
     "data": {
      "text/plain": [
       "['Hello',\n",
       " '!',\n",
       " 'This',\n",
       " 'fist',\n",
       " 'NLP',\n",
       " 'learning',\n",
       " 'file',\n",
       " '.',\n",
       " 'This',\n",
       " 'file',\n",
       " 'describes',\n",
       " 'word',\n",
       " 'tokenizer',\n",
       " ',',\n",
       " 'sentence',\n",
       " 'tokenixer']"
      ]
     },
     "execution_count": 16,
     "metadata": {},
     "output_type": "execute_result"
    }
   ],
   "source": [
    "filtered_words = [w for w in words if w not in stop_words]\n",
    "filtered_words"
   ]
  },
  {
   "cell_type": "markdown",
   "metadata": {},
   "source": [
    "#### Stemming: reduces the words into there root words. For example living,lives,lived into live"
   ]
  },
  {
   "cell_type": "code",
   "execution_count": 19,
   "metadata": {},
   "outputs": [
    {
     "name": "stdout",
     "output_type": "stream",
     "text": [
      "programm\n",
      "program\n",
      "program\n",
      "program\n"
     ]
    }
   ],
   "source": [
    "from nltk.stem import PorterStemmer\n",
    "example_words = [\"programmer\",\"programmed\",\"programming\",\"program\"]\n",
    "ps = PorterStemmer()\n",
    "for w in example_words:    \n",
    "    print(ps.stem(w))\n"
   ]
  },
  {
   "cell_type": "code",
   "execution_count": 21,
   "metadata": {},
   "outputs": [
    {
     "name": "stdout",
     "output_type": "stream",
     "text": [
      "I\n",
      "am\n",
      "run\n",
      "late\n",
      "becaus\n",
      "I\n",
      "'m\n",
      "listen\n",
      "to\n",
      "music\n"
     ]
    }
   ],
   "source": [
    "sent = \"I am running late because I'm listening to music\"\n",
    "words = word_tokenize(sent)\n",
    "\n",
    "for w in words:\n",
    "    print(ps.stem(w))\n"
   ]
  },
  {
   "cell_type": "markdown",
   "metadata": {},
   "source": [
    "#### Lemmatizing: Process of reducing words into their lemma or dictionary"
   ]
  },
  {
   "cell_type": "code",
   "execution_count": 28,
   "metadata": {},
   "outputs": [],
   "source": [
    "from nltk.stem import wordnet\n",
    "from nltk.stem import WordNetLemmatizer\n",
    "lemmatizer = WordNetLemmatizer()"
   ]
  },
  {
   "cell_type": "code",
   "execution_count": 29,
   "metadata": {},
   "outputs": [
    {
     "name": "stdout",
     "output_type": "stream",
     "text": [
      "cat\n",
      "cactus\n",
      "goose\n"
     ]
    }
   ],
   "source": [
    "stem_words = [\"cats\",\"cacti\",\"geese\"]\n",
    "for w in stem_words:\n",
    "    print(lemmatizer.lemmatize(w))"
   ]
  },
  {
   "cell_type": "markdown",
   "metadata": {},
   "source": [
    "#### POS Tagging: words are tagged to their corresponding parts of speech"
   ]
  },
  {
   "cell_type": "code",
   "execution_count": 33,
   "metadata": {},
   "outputs": [],
   "source": [
    "pos_word = \"Joker movie is nominated for oscars\"\n",
    "word_token = word_tokenize(pos_word)"
   ]
  },
  {
   "cell_type": "code",
   "execution_count": 35,
   "metadata": {},
   "outputs": [
    {
     "name": "stdout",
     "output_type": "stream",
     "text": [
      "[('Joker', 'NN')]\n",
      "[('movie', 'NN')]\n",
      "[('is', 'VBZ')]\n",
      "[('nominated', 'VBN')]\n",
      "[('for', 'IN')]\n",
      "[('oscars', 'NNS')]\n"
     ]
    }
   ],
   "source": [
    "for w in word_token:\n",
    "    print(nltk.pos_tag([w]))"
   ]
  },
  {
   "cell_type": "code",
   "execution_count": null,
   "metadata": {},
   "outputs": [],
   "source": []
  }
 ],
 "metadata": {
  "kernelspec": {
   "display_name": "Python 3",
   "language": "python",
   "name": "python3"
  },
  "language_info": {
   "codemirror_mode": {
    "name": "ipython",
    "version": 3
   },
   "file_extension": ".py",
   "mimetype": "text/x-python",
   "name": "python",
   "nbconvert_exporter": "python",
   "pygments_lexer": "ipython3",
   "version": "3.7.4"
  }
 },
 "nbformat": 4,
 "nbformat_minor": 4
}
